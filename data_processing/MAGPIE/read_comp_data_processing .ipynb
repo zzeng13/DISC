{
 "cells": [
  {
   "cell_type": "markdown",
   "metadata": {},
   "source": [
    "# Data processing for the reading comprehension model paradigm\n",
    "\n",
    "This is the data processing for reading comprehension paradigm. \n",
    "For each sentence: \n",
    "- BERT sequence tokenization \n",
    "- Tokenization for glove embeddings (NLTK)\n",
    "- char sequence tokenization \n",
    "- POS tag tokenization\n",
    "\n",
    "For Glove Embedding, you need to download the original glove embedding file from their official website. \n"
   ]
  },
  {
   "cell_type": "code",
   "execution_count": 4,
   "metadata": {},
   "outputs": [],
   "source": [
    "from transformers import BertTokenizer\n",
    "import json \n",
    "from tqdm import tqdm\n",
    "from nltk.tokenize import word_tokenize\n",
    "import nltk\n",
    "import numpy as np"
   ]
  },
  {
   "cell_type": "code",
   "execution_count": 5,
   "metadata": {},
   "outputs": [],
   "source": [
    "# I/O Helper functions\n",
    "\n",
    "def read_json_lines(path_to_file): \n",
    "    with open(path_to_file) as f:\n",
    "        content = f.readlines()\n",
    "    f.close()\n",
    "    raw_data  = [json.loads(x) for x in content] \n",
    "    return raw_data\n",
    "\n",
    "def read_json_file(path):\n",
    "    with open(path, 'r') as f:\n",
    "        return json.load(f)\n",
    "    \n",
    "def write_json_file(path, data):\n",
    "    with open(path, 'w') as f:\n",
    "        json.dump(data, f)\n",
    "    return"
   ]
  },
  {
   "cell_type": "code",
   "execution_count": 9,
   "metadata": {},
   "outputs": [],
   "source": [
    "# Settings \n",
    "split = 'random'\n",
    "DATA_NAME = 'MAGPIE'\n",
    "# Input Paths\n",
    "PATH_TO_RAW_DATA = '../../data/MAGPIE/raw/MAGPIE_filtered_split_{}_raw_processed.json'.format(split)\n",
    "\n",
    "# Output paths\n",
    "PATH_TO_SAVE_DATA = '../../data/{}/processed/{}_{}_read_comp_data.json'.format(DATA_NAME, DATA_NAME, split)\n",
    "PATH_TO_SAVE_TARGET_VOCAB = '../../data/{}/processed/{}_read_comp_target_vocab.json'.format(DATA_NAME, DATA_NAME)\n",
    "PATH_TO_SAVE_GLOVE_VOCAB = '../../data/{}/processed/{}_{}_read_comp_glove_vocab.json'.format(DATA_NAME, DATA_NAME, split)\n",
    "PATH_TO_SAVE_CHAR_VOCAB = '../../data/{}/processed/{}_{}_read_comp_char_vocab.json'.format(DATA_NAME, DATA_NAME, split)\n",
    "PATH_TO_SAVE_GLOVE_EMB = '../../data/{}/processed/{}_{}_read_comp_glove_embed.npy'.format(DATA_NAME, DATA_NAME, split)\n",
    "PATH_TO_SAVE_POS_VOCAB = '../../data/{}/processed/{}_{}_read_comp_pos_vocab.json'.format(DATA_NAME, DATA_NAME, split)\n",
    "PATH_TO_SAVE_DATA_IDX = '../../data/{}/processed/{}_{}_read_comp_data_idx.json'.format(DATA_NAME, DATA_NAME, split)\n",
    "\n",
    "\n",
    "# Other settings \n",
    "max_seq_len = 50"
   ]
  },
  {
   "cell_type": "markdown",
   "metadata": {},
   "source": [
    "## 1. Construct dictionaries\n"
   ]
  },
  {
   "cell_type": "code",
   "execution_count": 10,
   "metadata": {},
   "outputs": [],
   "source": [
    "target_vocab = {\n",
    "    '<PAD>': 0,\n",
    "    '<s>': 1, \n",
    "    '<e>': 2,\n",
    "    '<l>': 3,\n",
    "    '<i>': 4\n",
    "}"
   ]
  },
  {
   "cell_type": "markdown",
   "metadata": {},
   "source": [
    "## 2. Data contruction and sentence tokenization "
   ]
  },
  {
   "cell_type": "code",
   "execution_count": 11,
   "metadata": {},
   "outputs": [],
   "source": [
    "# initialize tokenizer\n",
    "# model parameters\n",
    "pretrained_model_name = 'bert-base-uncased'\n",
    "# tokenizer parameters\n",
    "do_lower_case = True\n",
    "# model and tokenizer initialization\n",
    "tokenizer = BertTokenizer.from_pretrained(pretrained_model_name, \n",
    "                                          do_lower_case = do_lower_case)\n",
    "\n",
    "# load processed data \n",
    "raw_data = read_json_file(PATH_TO_RAW_DATA)"
   ]
  },
  {
   "cell_type": "code",
   "execution_count": 12,
   "metadata": {},
   "outputs": [
    {
     "data": {
      "text/plain": [
       "{'label': 'l',\n",
       " 'split': 'training',\n",
       " 'id': 13,\n",
       " 'genre': 'W fict prose',\n",
       " 'idiom': 'in the hole',\n",
       " 'offsets': [[27, 29], [32, 36]],\n",
       " 'sentence': \"At least back when I lived in a hole I knew everything there was to know about living in a hole , and now it 's a year later and I 'm at a place so far away I do n't even know how far away it is , watching something I do n't understand go to a place so far up there is no down .\"}"
      ]
     },
     "execution_count": 12,
     "metadata": {},
     "output_type": "execute_result"
    }
   ],
   "source": [
    "raw_data['train'][12]"
   ]
  },
  {
   "cell_type": "code",
   "execution_count": 13,
   "metadata": {},
   "outputs": [],
   "source": [
    "def process_source_and_target_sequence(raw_data, new_data, data_indices): \n",
    "    num_exceptions = 0\n",
    "    for data_entry in tqdm(raw_data): \n",
    "        # ==============================================================================\n",
    "        # STRING PRE-PROCESSING\n",
    "        # ------------------------------------------------------------------------------\n",
    "        try: \n",
    "            # extract raw source and target sentence\n",
    "            source_sentence = data_entry['sentence'].lower()\n",
    "            if len(source_sentence.split()) > max_seq_len: \n",
    "                continue \n",
    "            label = data_entry['label']\n",
    "            data_id = data_entry['id']\n",
    "            \n",
    "            offsets = [data_entry['offsets'][0][0], data_entry['offsets'][-1][0]]\n",
    "\n",
    "            while source_sentence[offsets[0]] != \" \" and offsets[0] != -1: \n",
    "                offsets[0] -= 1\n",
    "            offsets[0] += 1\n",
    "            while offsets[1] != len(source_sentence) and source_sentence[offsets[1]] not in [\" \", \",\", \".\", \"’\"]: \n",
    "                offsets[1] += 1\n",
    "\n",
    "            if source_sentence[offsets[0]] in [\"‘\", \",\"]: \n",
    "                offsets[0] += 1\n",
    "            if source_sentence[offsets[1]-1] in [\"’\", \"!\", '?', ')']: \n",
    "                offsets[1] -= 1\n",
    "\n",
    "            idiom_in_sentence = ''.join(source_sentence[offsets[0]: offsets[1]].split())\n",
    "            target_sentence = source_sentence[: offsets[0]] + ''.join([' [SEP]' for i in source_sentence[offsets[0]: offsets[1]].split()]) + source_sentence[offsets[1]:]\n",
    "\n",
    "            def apply_contraction_change(s): \n",
    "                s = s.replace(\" n't\", \"n't\")\n",
    "                s = s.replace(\"\\n\", \"\")\n",
    "                s = s.replace(\"‘\", \" ‘ \")\n",
    "                s = s.replace(\"’\", \" ’ \")\n",
    "                s = s.replace(\",\", \" , \")\n",
    "                s = s.replace(\".\", \" . \")\n",
    "                s = s.replace('?', ' ? ')\n",
    "                s = s.replace('!', ' ! ')\n",
    "                s = s.replace('-', ' - ')\n",
    "                return s\n",
    "            # apply contraction \n",
    "            source_sentence = apply_contraction_change(source_sentence)   \n",
    "            target_sentence = apply_contraction_change(target_sentence) \n",
    "\n",
    "\n",
    "            # ==============================================================================\n",
    "            # TOKENIZATION\n",
    "            # ------------------------------------------------------------------------------\n",
    "\n",
    "            # BERT TOKENIZATION \n",
    "            # ------------------------------------------------\n",
    "            # process source sequence \n",
    "            source_sequence = tokenizer.batch_encode_plus([source_sentence])['input_ids'][0]\n",
    "            target_sequence = tokenizer.batch_encode_plus([target_sentence])['input_ids'][0]\n",
    "\n",
    "            # GLOVE TOKENIZATION\n",
    "            # ------------------------------------------------\n",
    "            # add start and end symbols\n",
    "            source_sentence_glove_tknz =  word_tokenize(source_sentence)\n",
    "\n",
    "            # add start and end symbols\n",
    "            tags_tokens = nltk.pos_tag(source_sentence_glove_tknz)\n",
    "            source_sentence_glove_tknz =[t[0] for t in tags_tokens]\n",
    "            source_sentence_pos_taggs = [t[1] for t in tags_tokens]\n",
    "            source_sentence_glove_tknz = ['<S>'] + source_sentence_glove_tknz + ['<E>']\n",
    "            source_sentence_pos_taggs = ['<S>'] + source_sentence_pos_taggs + ['<E>']\n",
    "\n",
    "            # STRING TOKENIZATION\n",
    "            # ------------------------------------------------\n",
    "            source_sentence_char_tknz = []\n",
    "            for word in source_sentence_glove_tknz: \n",
    "                if word in ['<S>', '<E>']: \n",
    "                    source_sentence_char_tknz.append(['<SPEC>'])\n",
    "                else: \n",
    "                    source_sentence_char_tknz.append(list(word))\n",
    "            #print(source_sentence_char_tknz)\n",
    "            #raise\n",
    "\n",
    "            # ==============================================================================\n",
    "            # PROCESS TARGET SEQUENCE\n",
    "            # ------------------------------------------------------------------------------\n",
    "\n",
    "            # Generate target sentence\n",
    "            # identify the start and end indices \n",
    "            target_indices = []\n",
    "            for t_idx, t in enumerate(target_sequence): \n",
    "                if tokenizer._convert_id_to_token(t) == '[SEP]': \n",
    "                    target_indices.append(t_idx)\n",
    "            target_indices = [min(target_indices[:-1]), max(target_indices[:-1])]\n",
    "            idiom_in_target = ''.join([tokenizer._convert_id_to_token(t) for t in source_sequence[target_indices[0]: target_indices[1]+1]]).replace('#', '')\n",
    "            while idiom_in_target != idiom_in_sentence: \n",
    "                target_indices[1] += 1\n",
    "                idiom_in_target = ''.join([tokenizer._convert_id_to_token(t) for t in source_sequence[target_indices[0]: target_indices[1]+1]]).replace('#', '')\n",
    "                if target_indices[1] > len(source_sequence): \n",
    "                    raise\n",
    "\n",
    "            # process target sequence\n",
    "            target_sequence = [target_vocab['<s>']] + \\\n",
    "                              [target_vocab['<l>'] for i in source_sequence[1:-1]] + \\\n",
    "                              [target_vocab['<e>']]\n",
    "            if label == 'i': \n",
    "                for t_idx in range(target_indices[0], target_indices[1]+1): \n",
    "                    target_sequence[t_idx] = target_vocab['<i>']\n",
    "                # print([tokenizer._convert_id_to_token(source_sequence[t_idx]) for t_idx, t in enumerate(target_sequence) if t == target_vocab['<i>']])\n",
    "            try: \n",
    "                # assert len(source_sequence) == len(source_sentence_glove_tknz)\n",
    "                assert len(source_sequence) == len(target_sequence)\n",
    "            except: \n",
    "                # print(' '.join(source_sentence_bert_tknz))\n",
    "                print(' '.join(source_sentence_glove_tknz))\n",
    "                raise\n",
    "            new_data_entry = [source_sequence, source_sentence_glove_tknz, source_sentence_char_tknz, source_sentence_pos_taggs, target_sequence, label]\n",
    "            new_data.append(new_data_entry)\n",
    "            data_indices.append(data_id)\n",
    "        except: \n",
    "            num_exceptions += 1\n",
    "        \n",
    "    print('Final Number of Exceptions: {}'.format(num_exceptions)) \n",
    "\n",
    "            \n"
   ]
  },
  {
   "cell_type": "code",
   "execution_count": 14,
   "metadata": {},
   "outputs": [
    {
     "name": "stderr",
     "output_type": "stream",
     "text": [
      "100%|██████████| 35533/35533 [00:48<00:00, 733.25it/s]\n",
      "  3%|▎         | 153/4451 [00:00<00:05, 735.65it/s]"
     ]
    },
    {
     "name": "stdout",
     "output_type": "stream",
     "text": [
      "Final Number of Exceptions: 25\n"
     ]
    },
    {
     "name": "stderr",
     "output_type": "stream",
     "text": [
      "100%|██████████| 4451/4451 [00:06<00:00, 697.29it/s]"
     ]
    },
    {
     "name": "stdout",
     "output_type": "stream",
     "text": [
      "Final Number of Exceptions: 4\n",
      "Final Number of train data: 32162\n",
      "Final Number of test data: 0\n",
      "Final Number of valid data: 4030\n"
     ]
    },
    {
     "name": "stderr",
     "output_type": "stream",
     "text": [
      "\n"
     ]
    }
   ],
   "source": [
    "# data processing \n",
    "processed_data = {'train': [], 'valid': [], 'test': []}\n",
    "data_indices = {'train': [], 'valid': [], 'test': []}\n",
    "process_source_and_target_sequence(raw_data['train'], processed_data['train'], data_indices['train'])\n",
    "process_source_and_target_sequence(raw_data['test'], processed_data['valid'], data_indices['valid'])\n",
    "\n",
    "print('Final Number of train data: {}'.format(len(processed_data['train'])))\n",
    "print('Final Number of test data: {}'.format(len(processed_data['test'])))\n",
    "print('Final Number of valid data: {}'.format(len(processed_data['valid'])))"
   ]
  },
  {
   "cell_type": "code",
   "execution_count": 9,
   "metadata": {},
   "outputs": [],
   "source": [
    "write_json_file(PATH_TO_SAVE_DATA_IDX, data_indices)"
   ]
  },
  {
   "cell_type": "code",
   "execution_count": 8,
   "metadata": {},
   "outputs": [
    {
     "data": {
      "text/plain": [
       "[[101,\n",
       "  1998,\n",
       "  2059,\n",
       "  1010,\n",
       "  2065,\n",
       "  2673,\n",
       "  2743,\n",
       "  2995,\n",
       "  2000,\n",
       "  2433,\n",
       "  1010,\n",
       "  1996,\n",
       "  6151,\n",
       "  8067,\n",
       "  5999,\n",
       "  5726,\n",
       "  2015,\n",
       "  2052,\n",
       "  9498,\n",
       "  2091,\n",
       "  2000,\n",
       "  1037,\n",
       "  4899,\n",
       "  4873,\n",
       "  2041,\n",
       "  1997,\n",
       "  4356,\n",
       "  1012,\n",
       "  102],\n",
       " ['<S>',\n",
       "  'and',\n",
       "  'then',\n",
       "  ',',\n",
       "  'if',\n",
       "  'everything',\n",
       "  'ran',\n",
       "  'true',\n",
       "  'to',\n",
       "  'form',\n",
       "  ',',\n",
       "  'the',\n",
       "  'undamaged',\n",
       "  'clays',\n",
       "  'would',\n",
       "  'sail',\n",
       "  'down',\n",
       "  'to',\n",
       "  'a',\n",
       "  'landing',\n",
       "  'somewhere',\n",
       "  'out',\n",
       "  'of',\n",
       "  'sight',\n",
       "  '.',\n",
       "  '<E>'],\n",
       " [['<SPEC>'],\n",
       "  ['a', 'n', 'd'],\n",
       "  ['t', 'h', 'e', 'n'],\n",
       "  [','],\n",
       "  ['i', 'f'],\n",
       "  ['e', 'v', 'e', 'r', 'y', 't', 'h', 'i', 'n', 'g'],\n",
       "  ['r', 'a', 'n'],\n",
       "  ['t', 'r', 'u', 'e'],\n",
       "  ['t', 'o'],\n",
       "  ['f', 'o', 'r', 'm'],\n",
       "  [','],\n",
       "  ['t', 'h', 'e'],\n",
       "  ['u', 'n', 'd', 'a', 'm', 'a', 'g', 'e', 'd'],\n",
       "  ['c', 'l', 'a', 'y', 's'],\n",
       "  ['w', 'o', 'u', 'l', 'd'],\n",
       "  ['s', 'a', 'i', 'l'],\n",
       "  ['d', 'o', 'w', 'n'],\n",
       "  ['t', 'o'],\n",
       "  ['a'],\n",
       "  ['l', 'a', 'n', 'd', 'i', 'n', 'g'],\n",
       "  ['s', 'o', 'm', 'e', 'w', 'h', 'e', 'r', 'e'],\n",
       "  ['o', 'u', 't'],\n",
       "  ['o', 'f'],\n",
       "  ['s', 'i', 'g', 'h', 't'],\n",
       "  ['.'],\n",
       "  ['<SPEC>']],\n",
       " ['<S>',\n",
       "  'CC',\n",
       "  'RB',\n",
       "  ',',\n",
       "  'IN',\n",
       "  'NN',\n",
       "  'VBD',\n",
       "  'JJ',\n",
       "  'TO',\n",
       "  'VB',\n",
       "  ',',\n",
       "  'DT',\n",
       "  'JJ',\n",
       "  'NNS',\n",
       "  'MD',\n",
       "  'VB',\n",
       "  'RP',\n",
       "  'TO',\n",
       "  'DT',\n",
       "  'NN',\n",
       "  'RB',\n",
       "  'IN',\n",
       "  'IN',\n",
       "  'NN',\n",
       "  '.',\n",
       "  '<E>'],\n",
       " [1,\n",
       "  3,\n",
       "  3,\n",
       "  3,\n",
       "  3,\n",
       "  3,\n",
       "  3,\n",
       "  4,\n",
       "  4,\n",
       "  4,\n",
       "  3,\n",
       "  3,\n",
       "  3,\n",
       "  3,\n",
       "  3,\n",
       "  3,\n",
       "  3,\n",
       "  3,\n",
       "  3,\n",
       "  3,\n",
       "  3,\n",
       "  3,\n",
       "  3,\n",
       "  3,\n",
       "  3,\n",
       "  3,\n",
       "  3,\n",
       "  3,\n",
       "  2],\n",
       " 'i']"
      ]
     },
     "execution_count": 8,
     "metadata": {},
     "output_type": "execute_result"
    }
   ],
   "source": [
    "processed_data['train'][12]"
   ]
  },
  {
   "cell_type": "markdown",
   "metadata": {},
   "source": [
    "## 3. Construct Glove dictionary and convert sequence to indices"
   ]
  },
  {
   "cell_type": "code",
   "execution_count": 15,
   "metadata": {},
   "outputs": [],
   "source": [
    "def get_glove_vocab(raw_dataset):\n",
    "    \"\"\"\n",
    "    return vocab set, and prints out the vocab size\n",
    "    :param raw_dataset: a list of lists: each inner list is a triple:\n",
    "                a sentence: string\n",
    "                a list of labels:\n",
    "                a list of pos:\n",
    "    :return: a set: the vocabulary in the raw_dataset\n",
    "    \"\"\"\n",
    "    vocab = []\n",
    "    for example in raw_dataset:\n",
    "        vocab.extend(example[1])  # index 1 is the source sentence tkn for glove\n",
    "    vocab = set(vocab)\n",
    "    vocab.remove('<S>')\n",
    "    vocab.remove('<E>')\n",
    "    print(\"vocab size: \", len(vocab))\n",
    "    return vocab\n",
    "\n",
    "def get_glove_word2idx_idx2word(vocab):\n",
    "    \"\"\"\n",
    "    :param vocab: a set of strings: vocabulary\n",
    "    :return: word2idx: string to an int\n",
    "             idx2word: int to a string\n",
    "    \"\"\"\n",
    "    word2idx = {\"<PAD>\": 0, \"<UNK>\": 1, '<S>': 2, '<E>': 3}\n",
    "    idx2word = {0: \"<PAD>\", 1: \"<UNK>\", 2: '<S>', 3: '<E>'}\n",
    "    for word in vocab:\n",
    "        assigned_index = len(word2idx)\n",
    "        word2idx[word] = assigned_index\n",
    "        idx2word[assigned_index] = word\n",
    "    return word2idx, idx2word"
   ]
  },
  {
   "cell_type": "code",
   "execution_count": 16,
   "metadata": {},
   "outputs": [
    {
     "name": "stdout",
     "output_type": "stream",
     "text": [
      "vocab size:  38660\n"
     ]
    }
   ],
   "source": [
    "glove_vocab =  get_glove_vocab(processed_data['train'] + processed_data['valid'])"
   ]
  },
  {
   "cell_type": "code",
   "execution_count": 17,
   "metadata": {},
   "outputs": [
    {
     "data": {
      "text/plain": [
       "38664"
      ]
     },
     "execution_count": 17,
     "metadata": {},
     "output_type": "execute_result"
    }
   ],
   "source": [
    "word2idx_glove, idx2word_glove = get_glove_word2idx_idx2word(glove_vocab)\n",
    "len(word2idx_glove.keys())"
   ]
  },
  {
   "cell_type": "code",
   "execution_count": 18,
   "metadata": {},
   "outputs": [],
   "source": [
    "glove_vocab = list(glove_vocab)\n",
    "glove_tknz_idx = 1\n",
    "# replace the words with indices \n",
    "for i, d in enumerate(processed_data['train'] ): \n",
    "    toknz_sent = []\n",
    "    for w in d[glove_tknz_idx]: \n",
    "        toknz_sent.append(word2idx_glove[w])\n",
    "    d[glove_tknz_idx] = toknz_sent\n",
    "    processed_data['train'][i] = d\n",
    "    \n",
    "for i, d in enumerate(processed_data['valid'] ): \n",
    "    toknz_sent = []\n",
    "    for w in d[glove_tknz_idx]: \n",
    "        toknz_sent.append(word2idx_glove[w])\n",
    "    d[glove_tknz_idx] = toknz_sent\n",
    "    processed_data['valid'][i] = d"
   ]
  },
  {
   "cell_type": "markdown",
   "metadata": {},
   "source": [
    "## 4. Construct Char dictionary"
   ]
  },
  {
   "cell_type": "code",
   "execution_count": 19,
   "metadata": {},
   "outputs": [],
   "source": [
    "char_tknz_idx = 2\n",
    "def get_char_vocab(raw_dataset):\n",
    "    \"\"\"\n",
    "    return vocab set, and prints out the vocab size\n",
    "    :param raw_dataset: a list of lists: each inner list is a triple:\n",
    "                a sentence: string\n",
    "                a list of labels:\n",
    "                a list of pos:\n",
    "    :return: a set: the vocabulary in the raw_dataset\n",
    "    \"\"\"\n",
    "    vocab = []\n",
    "    for example in raw_dataset:\n",
    "        #print(example)\n",
    "        for cs in example[char_tknz_idx]: \n",
    "         #   print(cs)\n",
    "            vocab.extend(cs)  # index 2 is the source sentence tkn for char tokens\n",
    "        \n",
    "    vocab = set(vocab)\n",
    "\n",
    "    vocab.remove('<SPEC>')\n",
    "    # vocab.remove('<E>')\n",
    "    print(\"vocab size: \", len(vocab))\n",
    "    return vocab\n",
    "\n",
    "def get_char_word2idx_idx2word(vocab):\n",
    "    \"\"\"\n",
    "    :param vocab: a set of strings: vocabulary\n",
    "    :return: word2idx: string to an int\n",
    "             idx2word: int to a string\n",
    "    \"\"\"\n",
    "    word2idx = {\"<PAD>\": 0, \"<UNK>\": 1, '<SPEC>': 2}\n",
    "    idx2word = {0: \"<PAD>\", 1: \"<UNK>\", 2: '<SPEC>'}\n",
    "    for word in vocab:\n",
    "        assigned_index = len(word2idx)\n",
    "        word2idx[word] = assigned_index\n",
    "        idx2word[assigned_index] = word\n",
    "    return word2idx, idx2word"
   ]
  },
  {
   "cell_type": "code",
   "execution_count": 20,
   "metadata": {},
   "outputs": [
    {
     "name": "stdout",
     "output_type": "stream",
     "text": [
      "vocab size:  117\n"
     ]
    }
   ],
   "source": [
    "char_vocab =  get_char_vocab(processed_data['train'] + processed_data['valid'])\n"
   ]
  },
  {
   "cell_type": "code",
   "execution_count": 21,
   "metadata": {},
   "outputs": [],
   "source": [
    "word2idx_char, idx2word_char = get_char_word2idx_idx2word(char_vocab)\n"
   ]
  },
  {
   "cell_type": "code",
   "execution_count": 22,
   "metadata": {},
   "outputs": [],
   "source": [
    "char_vocab = list(char_vocab)\n",
    "# replace the words with indices \n",
    "for i, d in enumerate(processed_data['train'] ): \n",
    "    toknz_sent = []\n",
    "    for w in d[char_tknz_idx]:\n",
    "        toknz_word = []\n",
    "        for c in w: \n",
    "            toknz_word.append(word2idx_char[c])\n",
    "        toknz_sent.append(toknz_word)\n",
    "    d[char_tknz_idx] = toknz_sent\n",
    "    processed_data['train'][i] = d\n",
    "    \n",
    "for i, d in enumerate(processed_data['valid'] ): \n",
    "    toknz_sent = []\n",
    "    for w in d[char_tknz_idx]:\n",
    "        toknz_word = []\n",
    "        for c in w: \n",
    "            toknz_word.append(word2idx_char[c])\n",
    "        toknz_sent.append(toknz_word)\n",
    "    d[char_tknz_idx] = toknz_sent\n",
    "    processed_data['valid'][i] = d"
   ]
  },
  {
   "cell_type": "code",
   "execution_count": 23,
   "metadata": {},
   "outputs": [
    {
     "data": {
      "text/plain": [
       "[[101,\n",
       "  1998,\n",
       "  2059,\n",
       "  1010,\n",
       "  2065,\n",
       "  2673,\n",
       "  2743,\n",
       "  2995,\n",
       "  2000,\n",
       "  2433,\n",
       "  1010,\n",
       "  1996,\n",
       "  6151,\n",
       "  8067,\n",
       "  5999,\n",
       "  5726,\n",
       "  2015,\n",
       "  2052,\n",
       "  9498,\n",
       "  2091,\n",
       "  2000,\n",
       "  1037,\n",
       "  4899,\n",
       "  4873,\n",
       "  2041,\n",
       "  1997,\n",
       "  4356,\n",
       "  1012,\n",
       "  102],\n",
       " [2,\n",
       "  14992,\n",
       "  21728,\n",
       "  17443,\n",
       "  11563,\n",
       "  22365,\n",
       "  21909,\n",
       "  15271,\n",
       "  9121,\n",
       "  30573,\n",
       "  17443,\n",
       "  5743,\n",
       "  25078,\n",
       "  14109,\n",
       "  11117,\n",
       "  20119,\n",
       "  16058,\n",
       "  9121,\n",
       "  11277,\n",
       "  4135,\n",
       "  14265,\n",
       "  3083,\n",
       "  6552,\n",
       "  19598,\n",
       "  31420,\n",
       "  3],\n",
       " [[2],\n",
       "  [79, 72, 71],\n",
       "  [37, 33, 117, 72],\n",
       "  [101],\n",
       "  [64, 48],\n",
       "  [117, 107, 117, 50, 43, 37, 33, 64, 72, 116],\n",
       "  [50, 79, 72],\n",
       "  [37, 50, 94, 117],\n",
       "  [37, 105],\n",
       "  [48, 105, 50, 23],\n",
       "  [101],\n",
       "  [37, 33, 117],\n",
       "  [94, 72, 71, 79, 23, 79, 116, 117, 71],\n",
       "  [17, 61, 79, 43, 73],\n",
       "  [104, 105, 94, 61, 71],\n",
       "  [73, 79, 64, 61],\n",
       "  [71, 105, 104, 72],\n",
       "  [37, 105],\n",
       "  [79],\n",
       "  [61, 79, 72, 71, 64, 72, 116],\n",
       "  [73, 105, 23, 117, 104, 33, 117, 50, 117],\n",
       "  [105, 94, 37],\n",
       "  [105, 48],\n",
       "  [73, 64, 116, 33, 37],\n",
       "  [29],\n",
       "  [2]],\n",
       " ['<S>',\n",
       "  'CC',\n",
       "  'RB',\n",
       "  ',',\n",
       "  'IN',\n",
       "  'NN',\n",
       "  'VBD',\n",
       "  'JJ',\n",
       "  'TO',\n",
       "  'VB',\n",
       "  ',',\n",
       "  'DT',\n",
       "  'JJ',\n",
       "  'NNS',\n",
       "  'MD',\n",
       "  'VB',\n",
       "  'RP',\n",
       "  'TO',\n",
       "  'DT',\n",
       "  'NN',\n",
       "  'RB',\n",
       "  'IN',\n",
       "  'IN',\n",
       "  'NN',\n",
       "  '.',\n",
       "  '<E>'],\n",
       " [1,\n",
       "  3,\n",
       "  3,\n",
       "  3,\n",
       "  3,\n",
       "  3,\n",
       "  3,\n",
       "  4,\n",
       "  4,\n",
       "  4,\n",
       "  3,\n",
       "  3,\n",
       "  3,\n",
       "  3,\n",
       "  3,\n",
       "  3,\n",
       "  3,\n",
       "  3,\n",
       "  3,\n",
       "  3,\n",
       "  3,\n",
       "  3,\n",
       "  3,\n",
       "  3,\n",
       "  3,\n",
       "  3,\n",
       "  3,\n",
       "  3,\n",
       "  2],\n",
       " 'i']"
      ]
     },
     "execution_count": 23,
     "metadata": {},
     "output_type": "execute_result"
    }
   ],
   "source": [
    "processed_data['train'][12]"
   ]
  },
  {
   "cell_type": "code",
   "execution_count": null,
   "metadata": {},
   "outputs": [],
   "source": []
  },
  {
   "cell_type": "markdown",
   "metadata": {},
   "source": [
    "## 4. Construct POS tag dictionary \n"
   ]
  },
  {
   "cell_type": "code",
   "execution_count": 24,
   "metadata": {},
   "outputs": [],
   "source": [
    "pos_tag_idx = 3\n",
    "\n",
    "def get_pos_vocab(raw_dataset):\n",
    "    \"\"\"\n",
    "    return vocab set, and prints out the vocab size\n",
    "    :param raw_dataset: a list of lists: each inner list is a triple:\n",
    "                a sentence: string\n",
    "                a list of labels:\n",
    "                a list of pos:\n",
    "    :return: a set: the vocabulary in the raw_dataset\n",
    "    \"\"\"\n",
    "    vocab = []\n",
    "    for example in raw_dataset:\n",
    "        vocab.extend(example[pos_tag_idx])  # index 3 is the source sentence tkn - pos tags \n",
    "    vocab = set(vocab)\n",
    "    vocab.remove('<S>')\n",
    "    vocab.remove('<E>')\n",
    "    print(\"vocab size: \", len(vocab))\n",
    "    return vocab\n",
    "\n",
    "def get_pos_word2idx_idx2word(vocab):\n",
    "    \"\"\"\n",
    "    :param vocab: a set of strings: vocabulary\n",
    "    :return: word2idx: string to an int\n",
    "             idx2word: int to a string\n",
    "    \"\"\"\n",
    "    word2idx = {\"<PAD>\": 0, \"<UNK>\": 1, '<S>': 2, '<E>': 3}\n",
    "    idx2word = {0: \"<PAD>\", 1: \"<UNK>\", 2: '<S>', 3: '<E>'}\n",
    "    for word in vocab:\n",
    "        assigned_index = len(word2idx)\n",
    "        word2idx[word] = assigned_index\n",
    "        idx2word[assigned_index] = word\n",
    "    return word2idx, idx2word"
   ]
  },
  {
   "cell_type": "code",
   "execution_count": 25,
   "metadata": {},
   "outputs": [
    {
     "name": "stdout",
     "output_type": "stream",
     "text": [
      "vocab size:  44\n"
     ]
    }
   ],
   "source": [
    "pos_vocab =  get_pos_vocab(processed_data['train'] + processed_data['valid'])\n",
    "word2idx_pos, idx2word_pos = get_pos_word2idx_idx2word(pos_vocab)\n"
   ]
  },
  {
   "cell_type": "code",
   "execution_count": 26,
   "metadata": {},
   "outputs": [],
   "source": [
    "pos_vocab = list(pos_vocab)\n",
    "# replace the words with indices \n",
    "for i, d in enumerate(processed_data['train'] ): \n",
    "    toknz_sent = []\n",
    "    for w in d[pos_tag_idx]: \n",
    "        toknz_sent.append(word2idx_pos[w])\n",
    "    d[pos_tag_idx] = toknz_sent\n",
    "    processed_data['train'][i] = d\n",
    "    \n",
    "for i, d in enumerate(processed_data['valid'] ): \n",
    "    toknz_sent = []\n",
    "    for w in d[pos_tag_idx]: \n",
    "        toknz_sent.append(word2idx_pos[w])\n",
    "    d[pos_tag_idx] = toknz_sent\n",
    "    processed_data['valid'][i] = d"
   ]
  },
  {
   "cell_type": "markdown",
   "metadata": {},
   "source": [
    "## 5.  create glove embedding layer weights\n"
   ]
  },
  {
   "cell_type": "code",
   "execution_count": 27,
   "metadata": {},
   "outputs": [],
   "source": [
    "import mmap\n",
    "PATH_TO_STATIC_GLOVE_EMBEDDINGS = '/home/zzeng/workspace/UIUC_research/IdiomDetection/data/resources/glove.840B.300d.txt'\n",
    "GLOVE_EMBEDDING_DIM = 300\n",
    "GLOVE_EMBED_NORAM = False"
   ]
  },
  {
   "cell_type": "code",
   "execution_count": 28,
   "metadata": {},
   "outputs": [],
   "source": [
    "def get_num_lines(file_path):\n",
    "    fp = open(file_path, \"r+\")\n",
    "    buf = mmap.mmap(fp.fileno(), 0)\n",
    "    lines = 0\n",
    "    while buf.readline():\n",
    "        lines += 1\n",
    "    return lines"
   ]
  },
  {
   "cell_type": "code",
   "execution_count": 29,
   "metadata": {},
   "outputs": [
    {
     "name": "stdout",
     "output_type": "stream",
     "text": [
      "Loading Pre-trained GLOVE word Embeddings...\n"
     ]
    },
    {
     "name": "stderr",
     "output_type": "stream",
     "text": [
      "100%|██████████| 2196017/2196017 [00:25<00:00, 87659.94it/s]"
     ]
    },
    {
     "name": "stdout",
     "output_type": "stream",
     "text": [
      "Number of pre-trained word vectors loaded:  35041\n"
     ]
    },
    {
     "name": "stderr",
     "output_type": "stream",
     "text": [
      "\n"
     ]
    }
   ],
   "source": [
    "glove_vectors = {}\n",
    "print('Loading Pre-trained GLOVE word Embeddings...')\n",
    "with open(PATH_TO_STATIC_GLOVE_EMBEDDINGS) as glove_file:\n",
    "    for line in tqdm(glove_file, total=get_num_lines(PATH_TO_STATIC_GLOVE_EMBEDDINGS)):\n",
    "        split_line = line.rstrip().split()\n",
    "        word = split_line[0]\n",
    "        if len(split_line) != (GLOVE_EMBEDDING_DIM + 1) or word not in word2idx_glove:\n",
    "            continue\n",
    "        assert (len(split_line) == GLOVE_EMBEDDING_DIM + 1)\n",
    "        vector = np.array([float(x) for x in split_line[1:]], dtype=\"float32\")\n",
    "        if GLOVE_EMBED_NORAM:\n",
    "            vector = vector / np.linalg.norm(vector)\n",
    "        assert len(vector) == GLOVE_EMBEDDING_DIM\n",
    "        glove_vectors[word] = vector\n",
    "print(\"Number of pre-trained word vectors loaded: \", len(glove_vectors))\n",
    "\n"
   ]
  },
  {
   "cell_type": "code",
   "execution_count": 30,
   "metadata": {},
   "outputs": [
    {
     "name": "stdout",
     "output_type": "stream",
     "text": [
      "Embeddings mean:  -0.003942171111702919\n",
      "Embeddings stdev:  0.39030006527900696\n",
      "Glove Embedding shape: \n",
      "(38664, 300)\n",
      "Hit ratio: 0.9063421447416068\n"
     ]
    }
   ],
   "source": [
    "all_embeddings = np.array(list(glove_vectors.values()))\n",
    "embeddings_mean = float(np.mean(all_embeddings))\n",
    "embeddings_stdev = float(np.std(all_embeddings))\n",
    "print(\"Embeddings mean: \", embeddings_mean)\n",
    "print(\"Embeddings stdev: \", embeddings_stdev)\n",
    "\n",
    "# Randomly initialize an embedding matrix of (vocab_size, embedding_dim) shape\n",
    "# with a similar distribution as the pretrained embeddings for words in vocab.\n",
    "vocab_size = len(word2idx_glove)\n",
    "embedding_matrix = np.random.normal(embeddings_mean, embeddings_stdev, size=(vocab_size, GLOVE_EMBEDDING_DIM))\n",
    "# Go through the embedding matrix and replace the random vector with a\n",
    "# pretrained one if available. Start iteration at 2 since 0, 1 are PAD, UNK\n",
    "hit, miss = 0, 0 \n",
    "for i in range(2, vocab_size):\n",
    "    word = idx2word_glove[i]\n",
    "    if word in glove_vectors:\n",
    "        hit += 1\n",
    "        embedding_matrix[i] = np.array(glove_vectors[word])\n",
    "    else: \n",
    "        miss += 1\n",
    "        \n",
    "if GLOVE_EMBED_NORAM:\n",
    "    for i in range(vocab_size):\n",
    "        embedding_matrix[i] = embedding_matrix[i] / float(np.linalg.norm(embedding_matrix[i]))\n",
    "\n",
    "print('Glove Embedding shape: ')\n",
    "print(embedding_matrix.shape)\n",
    "print('Hit ratio: {}'.format(hit/(hit + miss)))"
   ]
  },
  {
   "cell_type": "markdown",
   "metadata": {},
   "source": [
    "## SAVE THINGS"
   ]
  },
  {
   "cell_type": "code",
   "execution_count": 25,
   "metadata": {},
   "outputs": [],
   "source": [
    "write_json_file(PATH_TO_SAVE_DATA, processed_data)\n",
    "write_json_file(PATH_TO_SAVE_TARGET_VOCAB, target_vocab)\n",
    "write_json_file(PATH_TO_SAVE_GLOVE_VOCAB, idx2word_glove)\n",
    "write_json_file(PATH_TO_SAVE_CHAR_VOCAB, idx2word_char)\n",
    "write_json_file(PATH_TO_SAVE_POS_VOCAB, idx2word_pos)\n",
    "\n",
    "np.save(PATH_TO_SAVE_GLOVE_EMB, embedding_matrix)"
   ]
  },
  {
   "cell_type": "code",
   "execution_count": null,
   "metadata": {},
   "outputs": [],
   "source": []
  }
 ],
 "metadata": {
  "kernelspec": {
   "display_name": "Python [conda env:pytorch_py37] *",
   "language": "python",
   "name": "conda-env-pytorch_py37-py"
  },
  "language_info": {
   "codemirror_mode": {
    "name": "ipython",
    "version": 3
   },
   "file_extension": ".py",
   "mimetype": "text/x-python",
   "name": "python",
   "nbconvert_exporter": "python",
   "pygments_lexer": "ipython3",
   "version": "3.7.10"
  }
 },
 "nbformat": 4,
 "nbformat_minor": 2
}
